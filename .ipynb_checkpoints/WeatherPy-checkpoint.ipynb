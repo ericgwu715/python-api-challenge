{
 "cells": [
  {
   "cell_type": "markdown",
   "metadata": {},
   "source": [
    "# WeatherPy\n",
    "----\n",
    "\n",
    "#### Note\n",
    "* Instructions have been included for each segment. You do not have to follow them exactly, but they are included to help you think through the steps."
   ]
  },
  {
   "cell_type": "code",
   "execution_count": 1,
   "metadata": {
    "scrolled": true
   },
   "outputs": [],
   "source": [
    "# Dependencies and Setup\n",
    "import matplotlib.pyplot as plt\n",
    "import pandas as pd\n",
    "import numpy as np\n",
    "import requests\n",
    "import time\n",
    "from scipy.stats import linregress\n",
    "from scipy import stats\n",
    "# Import API key\n",
    "from api_keys import weather_api_key\n",
    "\n",
    "# Incorporated citipy to determine city based on latitude and longitude\n",
    "from citipy import citipy\n",
    "\n",
    "# Output File (CSV)\n",
    "output_data_file = \"output_data/cities.csv\"\n",
    "\n",
    "# Range of latitudes and longitudes\n",
    "lat_range = (-90, 90)\n",
    "lng_range = (-180, 180)"
   ]
  },
  {
   "cell_type": "markdown",
   "metadata": {},
   "source": [
    "## Generate Cities List"
   ]
  },
  {
   "cell_type": "code",
   "execution_count": 2,
   "metadata": {},
   "outputs": [
    {
     "data": {
      "text/plain": [
       "602"
      ]
     },
     "execution_count": 2,
     "metadata": {},
     "output_type": "execute_result"
    }
   ],
   "source": [
    "# List for holding lat_lngs and cities\n",
    "lat_lngs = []\n",
    "cities = []\n",
    "\n",
    "# Create a set of random lat and lng combinations\n",
    "lats = np.random.uniform(lat_range[0], lat_range[1], size=1500)\n",
    "lngs = np.random.uniform(lng_range[0], lng_range[1], size=1500)\n",
    "lat_lngs = zip(lats, lngs)\n",
    "\n",
    "# Identify nearest city for each lat, lng combination\n",
    "for lat_lng in lat_lngs:\n",
    "    city = citipy.nearest_city(lat_lng[0], lat_lng[1]).city_name\n",
    "    \n",
    "    # If the city is unique, then add it to a our cities list\n",
    "    if city not in cities:\n",
    "        cities.append(city)\n",
    "\n",
    "# Print the city count to confirm sufficient count\n",
    "len(cities)"
   ]
  },
  {
   "cell_type": "markdown",
   "metadata": {},
   "source": [
    "### Perform API Calls\n",
    "* Perform a weather check on each city using a series of successive API calls.\n",
    "* Include a print log of each city as it'sbeing processed (with the city number and city name).\n"
   ]
  },
  {
   "cell_type": "code",
   "execution_count": 14,
   "metadata": {},
   "outputs": [],
   "source": [
    "# Save config information.\n",
    "url = \"http://api.openweathermap.org/data/2.5/weather?\"\n",
    "#units = \"metric\"\n",
    "\n",
    "# Build partial query URL\n",
    "query_url = f\"{url}appid={weather_api_key}&q=\""
   ]
  },
  {
   "cell_type": "code",
   "execution_count": 7,
   "metadata": {},
   "outputs": [
    {
     "name": "stdout",
     "output_type": "stream",
     "text": [
      "The latitude information received is: [13.28, 46.71, -33.59, -53.15, 37.67, -20.52, 60.38, 31.22, 39.65, 44.77, -21.34, 41.37, 62.46, 71.29, -33.92, -54.8, 5.41, -34.65, 20.89, 70.63, 37.72, 38.52, -23.12, 15.74, -46.19, -33.65, 71.92, 37.1, 17.02, 42.6, -33.93, -24.79, -13.44, -33.02, -3.8, 34.88, 63.01, -20.73, 57.79, -35.33, -0.74, -24.87, -20.41, 59.7, 37.48, 29.97, -0.6, 41.19, 54.17, 30.48, 68.1, 6.12, 7.7, 43.52, 46.83, 22.08, 55.41, -37.62, -33.7, -34.53, -10.21, 38.69, 38.89, -16.48, 32.43, 45.02, 51.5, -16.1, -6.42, 8.55, 42.25, -0.95, 4.38, -9.8, 65.61, 48.93, 28.62, -24.85, -21.2, 41.28, 22.68, -21.36, 40.6, 41.76, 49.87, 17.96, 44.08, 60.14, 71.97, 72.79, 70.86, 42.1, 34.62, -21.37, -42.88, 19.15, -46.6, 7.49, 24.42, 6.5, -13.28, 27.98, 14.9, 12.58, -12.04, 66.94, 62.27, 41.06, -33.87, -20.34, 62.58, 21.35, 5.56, 73.51, -46.13, 3.07, 55.74, -36.78, -9.41, -33.01, -16.5, -28.7, -2.57, 39.17, 41.54, 48.65, -42.78, 8.67, 77.48, 67.45, 50.15, 14.92, 42.9, 68.23, 23.15, -20.23, 50.38, 22.29, 13.7, 5.31, 2.67, 50.6, 69.45, 20.45, 50.31, 21.1, 69.22, 35.24, 60.47, -4.13, 38.42, -25.01, -38, 50.68, -41.41, -31.95, 45.25, 59.38, 43.8, -22.97, 29.03, -21.21, -34.42, 64.89, -32.55, 19.22, 45.52, 35.73, 59.57, 70.37, 32.67, 6.88, 63.75, 71.69, 8, 29.98, -51.62, 65.28, -30.18, 33.23, 60.92, -14.9, 62.23, 10.07, 63.29, -36.83, 56.55, -9.11, 59.1, 59.58, 64.9, -25.24, 54.81, -20.74, 46.54, 29.8, 13.17, -22.28, -38.55, 19.22, 11.5, -38.27, 54.43, -35.35, 37.5, 19.73, -18.77, 22.89, 69.38, 8.41, 68.75, 68.05, 42.78, 60.8, -0.95, -10.13, 22.95, 23.48, 66.77, 39.34, 7.77, 63.84, 25.8, 67.47, 54.78, 64.84, 52.52, 29.05, -46.28, 16.89, 48.23, 9.97, 36.62, 42.16, -45.58, 37.87, 24.7, 4.85, 2.04, 43.06, 14.3, 78.22, -11.38, -23.7, 42.8, -33.04, -3.1, 4.75, 61.28, 53.86, -34, -35.17, 5.35, 37.2, 20.87, 20.5, 42.06, 34.69, 5.11, -0.13, 24.69, 27.08, -17.71, 66.15, 38.73, 40.28, 52.53, 25.52, 25.54, 31.61, -3.75, -3.35, 60.4, 9.54, 36.96, 64.75, 39.65, 54.48, 34.24, 61.36, -19.98, 24.09, 3.12, 36, 7.98, 18.69, 54.77, -13.7, -16.26, 36.62, -32.95, 46.36, 25.02, 8.87, 25.7, -1.76, -20.01, -8.84, 61.15, -10.62, -15.86, -24, 39.05, 60.14, 33.6, -4.35, 69.7, -22.67, -38.37, -28.77, -28.45, -17.53, -11.3, -32.25, -29.95, -20.44, 7.93, 51.07, 66.83, 61.99, 58.52, -2.89, 32.9, 21.65, 18.73, -15.43, -20.32, -7.39, 69.77, 65.42, -34.64, -2.47, 56.35, 50.14, 52.27, 42.21, 57.77, 66.66, -21.64, -34.05, 9.24, 69.19, 40.25, -20.21, 3.66, -25.17, 52.98, 8.08, 64.38, 68.82, 70.47, -0.72, 36.57, 33.6, -2.02, -3.37, 34.7, 29.29, -35.72, 37.84, 60.07, -2.92, -14.47, 23.8, 56.74, 34.64, 37.49, 29.95, 68.22, 3.78, -22.88, 10.35, 38.8, -23.65, 54.67, 65.82, 44.18, 52.15, 46.84, 43.4, 13.6, 8.2, 71.04, 34.13, 22.57, -6.32, -5.09, 41.96, 11.78, 13.55, 34.42, 28.07, 4.41, 64.5, -28.78, -7.38, 65.58, -8.01, 55.1, 20.23, 33.19, 48.6, 50.86, 52.03, 58.69, -15.2, 8.48, 29.31, -23.86, 5.88, -8.93, 30.76, 27.22, 46.85, -35.1, 55.28, 54.63, -31.43, 51.03, 54.86, 5.16, -25.05, 43.32, 18.39, 4.93, 48.81, 18.01, 18.22, 63.44, 55.38, 27.18, 64.86, -14.97, 46.68, 39.7, 42.34, -38.08, 64.18, 46.49, 44.39, -25.88, 63.9, -8.14, 4.42, 20.15, 23.9, 12.27, 36.1, 36.54, -6.88, -1.57, 51.36, 6.04, -17.73, 47.67, 42.03, 67.67, 0.05, 44.65, 9.66, 4.12, 21.46, -26.65, -17.93, 63.79, 43.21, 42.56, 21.44, 56.49, -7.84, 65.97, 2.82, 26.59, 57.26, 16.57, 34.37, 24.34, -20.1, 9.23, -5.2, -1.2, 35.26, -14.27, 55.17, 63.05, 10.57, 58.28, 0.07, 14.72, -16.7, 39.05, 50.12, -9.45, 66.42, 49.59, -33.46, -34.73, -0.88, 36.21, 46.2, 2.89, 40.43, -5.55, 67.56, 55.9, 18.43, 68.05, 42.97, -12.29, 60.87, 28.42, 11.67, 16.86, -18.48, 56.79, 63.87, 39.15, 3.38, 55.88, 7.99, 26.28, 14.92, 5.08, 60.55, -36.31, -27.61, -8.19, 44.27, 45.05, -9.08, 50.4, 34.15, 14.2, 33.67, 61.13, 6.27, 5.38, -15.53, 31.81, -7, 16.33, -21.62, 56.67, -5.95, -18.06, -26.37, 50.43, 51.72]\n",
      "The temperature information received is: [306.53, 283.22, 289.26, 278.15, 284.3, 296.15, 274.81, 292.15, 293.72, 293.33, 293.93, 287.98, 279.98, 265.15, 290.15, 278.15, 299.4, 286.89, 299.1, 265.33, 289.15, 289.11, 296.01, 306.04, 283.27, 281.27, 255.06, 303.9, 302.15, 286.63, 290.81, 289.37, 294.75, 291.3, 297.88, 292.46, 278.89, 294.15, 281.15, 288.08, 299.57, 293.63, 296.15, 280.92, 285.93, 294.15, 302.01, 286.15, 280.41, 296.27, 277.59, 300.56, 296.81, 289.62, 285.13, 298.58, 280.47, 286.09, 286.25, 288.15, 302.15, 283.15, 286.31, 300.95, 290.13, 288.32, 274.28, 297.15, 306.15, 295.78, 283.5, 298.63, 300.22, 300.65, 275.15, 287.78, 296.87, 293.39, 300.15, 284.48, 307.35, 294.75, 287.66, 288.93, 289.23, 301.49, 286.41, 278.08, 255.95, 268.28, 276.33, 282.15, 298.26, 296.15, 286.01, 299.31, 285.1, 300.77, 299.46, 301.15, 297.23, 298.48, 297.08, 302.15, 294.15, 273.42, 277.77, 285.15, 286.15, 296.04, 280.11, 299.99, 300.84, 259.77, 283.49, 301.53, 276.15, 283.71, 297.06, 288.15, 285.15, 280.15, 301.43, 288.15, 288.79, 277.04, 284.19, 288.7, 263.94, 272.44, 289.71, 296.15, 285.45, 277.59, 304.15, 294.46, 278.32, 300.39, 295.85, 302.15, 302.02, 272.92, 272.15, 301.25, 279.82, 298.62, 271.15, 298.65, 271.7, 296.49, 302.18, 295.87, 285.3, 274.38, 284.87, 284.15, 284.23, 275, 284.58, 297.15, 290.82, 300.15, 288.71, 279.01, 286.48, 301.15, 295.69, 288.15, 274.84, 277.15, 289.86, 302.96, 266.04, 266.29, 299.26, 310.7, 278.15, 281.15, 292.4, 285.61, 280.15, 296.11, 280.15, 294.99, 278.15, 289.15, 279.28, 298.05, 279.45, 275.26, 272.24, 280.15, 277.18, 293.61, 279.4, 290.55, 299.9, 294.52, 284.82, 298.18, 303.15, 285.93, 283.76, 286.6, 292.15, 297.49, 290.66, 304.7, 267.15, 297.13, 271.09, 275.06, 289.26, 281.92, 300.35, 298.79, 299.15, 297.91, 273.79, 280.89, 306.15, 279.15, 297.57, 264.5, 286.15, 287.9, 272.69, 314.21, 286.48, 296.15, 285.21, 299.78, 289.84, 287.09, 280.15, 283.15, 300.15, 297.46, 301.31, 285.15, 297.15, 271.15, 300.73, 279.15, 289.72, 294.15, 298.33, 298.93, 280.88, 282.74, 286.47, 288.44, 301.56, 294.7, 302.48, 306.66, 289.15, 292.46, 300.78, 297.15, 301.15, 303.71, 295.64, 263.15, 289.15, 284.62, 279.26, 294.71, 301.8, 288.57, 301.15, 300.15, 282.15, 300.61, 289.82, 267.09, 290.15, 283.85, 307.64, 283.26, 295.93, 297.29, 302.49, 303.27, 301.63, 300.95, 282.15, 293.48, 291.4, 290.15, 287.94, 284.25, 298.11, 303.39, 286.59, 299.15, 295.93, 298.69, 282.03, 300.07, 299.15, 289.84, 288.68, 279.64, 291.46, 301.49, 265.88, 295.68, 282.45, 291.15, 285.15, 295.34, 288.92, 286.55, 287.15, 295.69, 299.44, 280.21, 273.04, 273.98, 292.15, 299.81, 298.96, 296.84, 302.15, 295.72, 291.15, 298.18, 276.55, 272.84, 285.37, 295.15, 280.6, 277.34, 277.78, 289.15, 276.83, 274.1, 297.15, 289.23, 303.15, 278.15, 285.32, 296.03, 292.63, 290.08, 281.91, 296.12, 272.15, 271.15, 262.15, 301.15, 288.05, 298.15, 301.28, 299.67, 299.96, 293.34, 284.26, 290.05, 279.6, 299.74, 289.15, 301.37, 277.52, 292.53, 288.15, 303.23, 274.15, 301.88, 298.15, 301.4, 290.71, 294.86, 279.15, 270.93, 290.37, 283.54, 281.84, 286.3, 302.02, 298.89, 277.15, 298.82, 305.64, 300.39, 303.15, 287.15, 303.28, 303.73, 298.28, 294.94, 298.15, 278.64, 292.25, 295.85, 271.82, 302.15, 286.15, 302.98, 302.06, 288.44, 279.99, 287.14, 276.17, 298.49, 299.73, 306.03, 294.02, 300.45, 291.18, 303.31, 301.22, 286.46, 287.59, 292.15, 283.71, 288.72, 284.08, 282.95, 301.15, 292.39, 279.16, 291.65, 301.15, 281.77, 300.47, 291.62, 280.07, 276.58, 293.15, 287.71, 291.25, 286.6, 290, 280.85, 286.48, 273.92, 282.79, 288.43, 294.34, 276.69, 303.11, 300.18, 300.57, 299.07, 299.69, 291.12, 291.14, 298.86, 298.9, 282.18, 300.99, 304.15, 277.92, 286.45, 276.43, 296.51, 276.48, 302.94, 298.75, 299.64, 296.72, 291.57, 274.58, 288.29, 288.15, 301.03, 276.21, 295.52, 273.38, 304.15, 295.69, 287.15, 302.18, 290.67, 299.15, 293.09, 303, 299.15, 298.52, 303.09, 296.67, 279.48, 269.81, 302.3, 284.65, 298.87, 295.15, 301.4, 287.59, 283.71, 298.31, 262.15, 275.92, 295.62, 289.48, 300.88, 292.85, 286.79, 300.02, 289.15, 301.19, 272.16, 283.34, 303.15, 267.32, 286.04, 290.01, 283.72, 289.23, 301.56, 301.15, 292.15, 277.07, 276.48, 295.86, 298.07, 288.15, 301.96, 290.86, 296.15, 301.74, 286.74, 283.05, 294.69, 299.15, 287.74, 283.3, 299.12, 283.15, 298.48, 296.84, 297.42, 275.15, 294.91, 299.2, 299.15, 289.98, 292.74, 301.15, 292.15, 276.34, 289.59, 292.66, 287.42, 277.58, 277.59]\n",
      "The humidity information received is: [36, 15, 87, 86, 87, 94, 88, 63, 11, 18, 83, 22, 42, 72, 77, 65, 94, 100, 45, 96, 77, 87, 65, 46, 77, 98, 92, 7, 79, 21, 88, 75, 80, 65, 86, 68, 80, 46, 70, 58, 88, 78, 94, 53, 93, 35, 74, 76, 59, 55, 76, 82, 81, 77, 53, 74, 75, 72, 73, 87, 66, 87, 62, 76, 40, 21, 86, 94, 59, 64, 29, 87, 83, 70, 51, 76, 60, 82, 78, 50, 10, 83, 87, 55, 36, 51, 81, 79, 90, 89, 81, 39, 61, 83, 62, 64, 76, 78, 87, 83, 80, 45, 74, 79, 77, 87, 71, 100, 62, 94, 87, 50, 73, 92, 79, 80, 51, 84, 83, 87, 34, 75, 79, 87, 88, 82, 80, 82, 85, 95, 45, 73, 66, 76, 48, 85, 79, 83, 97, 83, 76, 92, 80, 75, 10, 88, 58, 22, 98, 95, 17, 67, 66, 89, 62, 66, 37, 84, 58, 83, 47, 74, 90, 87, 64, 74, 40, 93, 78, 64, 77, 79, 67, 97, 90, 8, 75, 52, 86, 89, 70, 88, 81, 58, 60, 77, 83, 85, 82, 76, 98, 39, 73, 62, 72, 29, 68, 77, 72, 12, 79, 60, 96, 71, 72, 51, 85, 27, 93, 81, 93, 86, 86, 97, 77, 87, 24, 25, 98, 87, 41, 81, 88, 94, 37, 30, 79, 7, 65, 73, 66, 83, 63, 26, 81, 66, 61, 77, 82, 100, 94, 74, 75, 38, 33, 46, 94, 94, 75, 47, 73, 58, 77, 33, 69, 10, 72, 52, 84, 94, 42, 50, 76, 72, 77, 71, 83, 88, 58, 78, 83, 83, 70, 83, 88, 79, 59, 66, 9, 93, 85, 29, 51, 12, 74, 13, 26, 73, 79, 72, 58, 87, 51, 51, 85, 88, 85, 91, 94, 77, 69, 34, 76, 87, 88, 71, 89, 72, 79, 55, 40, 84, 94, 62, 87, 58, 78, 84, 99, 97, 32, 85, 20, 31, 45, 59, 77, 88, 76, 92, 75, 88, 66, 78, 70, 31, 79, 96, 73, 73, 84, 52, 40, 94, 97, 91, 48, 81, 63, 58, 85, 88, 87, 20, 79, 84, 31, 86, 100, 55, 77, 85, 63, 22, 100, 49, 82, 55, 86, 80, 73, 75, 84, 35, 93, 94, 60, 87, 52, 82, 16, 81, 82, 65, 40, 57, 66, 93, 63, 79, 69, 69, 94, 56, 80, 93, 90, 74, 32, 62, 42, 21, 90, 70, 89, 69, 89, 41, 73, 83, 100, 45, 44, 88, 62, 24, 72, 85, 79, 78, 83, 86, 77, 88, 83, 72, 80, 88, 86, 80, 42, 33, 55, 36, 85, 57, 64, 69, 52, 76, 83, 77, 60, 84, 84, 42, 80, 74, 57, 88, 91, 78, 78, 70, 100, 87, 78, 92, 72, 57, 74, 82, 25, 45, 99, 74, 72, 51, 79, 71, 97, 58, 21, 82, 65, 72, 100, 67, 46, 94, 93, 27, 88, 58, 90, 81, 75, 90, 100, 72, 37, 100, 70, 92, 78, 30, 36, 79, 68, 76, 77, 72, 74, 96, 94, 74, 83, 66, 84, 81, 62, 75, 78, 77, 74, 78, 36, 88, 82, 76, 80, 73, 74, 35, 72, 88, 100, 94, 62, 82, 76, 56, 19, 41, 74, 96, 86, 83, 91, 95, 69, 77, 72, 91, 38, 40, 76, 80]\n"
     ]
    }
   ],
   "source": [
    "lat = []\n",
    "lon = []\n",
    "temp = []\n",
    "humid = []\n",
    "cloud = []\n",
    "wind = []\n",
    "# Loop through the list of cities and perform a request for data on each\n",
    "for city in cities:\n",
    "    try:\n",
    "        response = requests.get(query_url + city).json()\n",
    "        lat.append(response['coord']['lat'])\n",
    "        lon.append(response['coord']['lon'])\n",
    "        temp.append(response['main']['temp'])\n",
    "        humid.append(response['main']['humidity'])\n",
    "        cloud.append(response['clouds']['all'])\n",
    "        wind.append(response['wind']['speed'])\n",
    "    except: \n",
    "        pass\n",
    "        \n",
    "    \n",
    "print(f\"The latitude information received is: {lat}\")\n",
    "print(f\"The temperature information received is: {temp}\")\n",
    "print(f\"The humidity information received is: {humid}\")"
   ]
  },
  {
   "cell_type": "code",
   "execution_count": 8,
   "metadata": {},
   "outputs": [
    {
     "name": "stdout",
     "output_type": "stream",
     "text": [
      "602\n",
      "548\n",
      "548\n",
      "548\n"
     ]
    }
   ],
   "source": [
    "print(len(cities))\n",
    "print(len(lat))\n",
    "print(len(temp))\n",
    "print(len(lon))"
   ]
  },
  {
   "cell_type": "markdown",
   "metadata": {},
   "source": [
    "### Convert Raw Data to DataFrame\n",
    "* Export the city data into a .csv.\n",
    "* Display the DataFrame"
   ]
  },
  {
   "cell_type": "code",
   "execution_count": 10,
   "metadata": {},
   "outputs": [
    {
     "data": {
      "text/html": [
       "<div>\n",
       "<style scoped>\n",
       "    .dataframe tbody tr th:only-of-type {\n",
       "        vertical-align: middle;\n",
       "    }\n",
       "\n",
       "    .dataframe tbody tr th {\n",
       "        vertical-align: top;\n",
       "    }\n",
       "\n",
       "    .dataframe thead th {\n",
       "        text-align: right;\n",
       "    }\n",
       "</style>\n",
       "<table border=\"1\" class=\"dataframe\">\n",
       "  <thead>\n",
       "    <tr style=\"text-align: right;\">\n",
       "      <th></th>\n",
       "      <th>lat</th>\n",
       "      <th>lon</th>\n",
       "      <th>temp</th>\n",
       "      <th>humid</th>\n",
       "      <th>cloud</th>\n",
       "      <th>wind</th>\n",
       "    </tr>\n",
       "  </thead>\n",
       "  <tbody>\n",
       "    <tr>\n",
       "      <th>0</th>\n",
       "      <td>13.28</td>\n",
       "      <td>-87.12</td>\n",
       "      <td>306.53</td>\n",
       "      <td>36</td>\n",
       "      <td>39</td>\n",
       "      <td>4.99</td>\n",
       "    </tr>\n",
       "    <tr>\n",
       "      <th>1</th>\n",
       "      <td>46.71</td>\n",
       "      <td>-80.92</td>\n",
       "      <td>283.22</td>\n",
       "      <td>15</td>\n",
       "      <td>40</td>\n",
       "      <td>5.10</td>\n",
       "    </tr>\n",
       "    <tr>\n",
       "      <th>2</th>\n",
       "      <td>-33.59</td>\n",
       "      <td>26.89</td>\n",
       "      <td>289.26</td>\n",
       "      <td>87</td>\n",
       "      <td>43</td>\n",
       "      <td>0.89</td>\n",
       "    </tr>\n",
       "    <tr>\n",
       "      <th>3</th>\n",
       "      <td>-53.15</td>\n",
       "      <td>-70.92</td>\n",
       "      <td>278.15</td>\n",
       "      <td>86</td>\n",
       "      <td>99</td>\n",
       "      <td>2.60</td>\n",
       "    </tr>\n",
       "    <tr>\n",
       "      <th>4</th>\n",
       "      <td>37.67</td>\n",
       "      <td>21.62</td>\n",
       "      <td>284.30</td>\n",
       "      <td>87</td>\n",
       "      <td>41</td>\n",
       "      <td>1.50</td>\n",
       "    </tr>\n",
       "  </tbody>\n",
       "</table>\n",
       "</div>"
      ],
      "text/plain": [
       "     lat    lon    temp  humid  cloud  wind\n",
       "0  13.28 -87.12  306.53     36     39  4.99\n",
       "1  46.71 -80.92  283.22     15     40  5.10\n",
       "2 -33.59  26.89  289.26     87     43  0.89\n",
       "3 -53.15 -70.92  278.15     86     99  2.60\n",
       "4  37.67  21.62  284.30     87     41  1.50"
      ]
     },
     "execution_count": 10,
     "metadata": {},
     "output_type": "execute_result"
    }
   ],
   "source": [
    "weather_dict = {'lat': lat, 'lon': lon, 'temp': temp, 'humid': humid, 'cloud': cloud, 'wind': wind}\n",
    "weather_data = pd.DataFrame(weather_dict)\n",
    "weather_data.head()"
   ]
  },
  {
   "cell_type": "code",
   "execution_count": 11,
   "metadata": {
    "scrolled": true
   },
   "outputs": [],
   "source": [
    "weather_data.to_csv('weather_data.csv', index=False)"
   ]
  },
  {
   "cell_type": "markdown",
   "metadata": {},
   "source": [
    "## Inspect the data and remove the cities where the humidity > 100%.\n",
    "----\n",
    "Skip this step if there are no cities that have humidity > 100%. "
   ]
  },
  {
   "cell_type": "code",
   "execution_count": 12,
   "metadata": {},
   "outputs": [
    {
     "data": {
      "text/html": [
       "<div>\n",
       "<style scoped>\n",
       "    .dataframe tbody tr th:only-of-type {\n",
       "        vertical-align: middle;\n",
       "    }\n",
       "\n",
       "    .dataframe tbody tr th {\n",
       "        vertical-align: top;\n",
       "    }\n",
       "\n",
       "    .dataframe thead th {\n",
       "        text-align: right;\n",
       "    }\n",
       "</style>\n",
       "<table border=\"1\" class=\"dataframe\">\n",
       "  <thead>\n",
       "    <tr style=\"text-align: right;\">\n",
       "      <th></th>\n",
       "      <th>lat</th>\n",
       "      <th>lon</th>\n",
       "      <th>temp</th>\n",
       "      <th>humid</th>\n",
       "      <th>cloud</th>\n",
       "      <th>wind</th>\n",
       "    </tr>\n",
       "  </thead>\n",
       "  <tbody>\n",
       "  </tbody>\n",
       "</table>\n",
       "</div>"
      ],
      "text/plain": [
       "Empty DataFrame\n",
       "Columns: [lat, lon, temp, humid, cloud, wind]\n",
       "Index: []"
      ]
     },
     "execution_count": 12,
     "metadata": {},
     "output_type": "execute_result"
    }
   ],
   "source": [
    "weather_data.loc[weather_data['humid']>100]"
   ]
  },
  {
   "cell_type": "code",
   "execution_count": null,
   "metadata": {},
   "outputs": [],
   "source": [
    "#  Get the indices of cities that have humidity over 100%.\n"
   ]
  },
  {
   "cell_type": "code",
   "execution_count": null,
   "metadata": {},
   "outputs": [],
   "source": [
    "# Make a new DataFrame equal to the city data to drop all humidity outliers by index.\n",
    "# Passing \"inplace=False\" will make a copy of the city_data DataFrame, which we call \"clean_city_data\".\n"
   ]
  },
  {
   "cell_type": "code",
   "execution_count": null,
   "metadata": {},
   "outputs": [],
   "source": [
    "# Extract relevant fields from the data frame\n",
    "\n",
    "\n",
    "# Export the City_Data into a csv\n"
   ]
  },
  {
   "cell_type": "markdown",
   "metadata": {},
   "source": [
    "## Plotting the Data\n",
    "* Use proper labeling of the plots using plot titles (including date of analysis) and axes labels.\n",
    "* Save the plotted figures as .pngs."
   ]
  },
  {
   "cell_type": "markdown",
   "metadata": {},
   "source": [
    "## Latitude vs. Temperature Plot"
   ]
  },
  {
   "cell_type": "code",
   "execution_count": 13,
   "metadata": {
    "scrolled": true
   },
   "outputs": [
    {
     "data": {
      "image/png": "[encoded data removed]",
      "text/plain": [
       "<Figure size 432x288 with 1 Axes>"
      ]
     },
     "metadata": {
      "needs_background": "light"
     },
     "output_type": "display_data"
    }
   ],
   "source": [
    "x_values = weather_data['lat']\n",
    "y_temp = weather_data['temp']\n",
    "plt.scatter(x_values,y_temp)\n",
    "plt.xlabel('Latitude')\n",
    "plt.ylabel('Temperature')\n",
    "plt.savefig(\"Lat_vs_Temp.png\")\n",
    "plt.show()"
   ]
  },
  {
   "cell_type": "markdown",
   "metadata": {},
   "source": [
    "## Latitude vs. Humidity Plot"
   ]
  },
  {
   "cell_type": "code",
   "execution_count": null,
   "metadata": {},
   "outputs": [],
   "source": [
    "x_values = weather_data['lat']\n",
    "y_humid = weather_data['humid']\n",
    "plt.scatter(x_values,y_humid)\n",
    "plt.xlabel('Latitude')\n",
    "plt.ylabel('Humidity')\n",
    "plt.savefig(\"Lat_vs_Humid.png\")\n",
    "plt.show()"
   ]
  },
  {
   "cell_type": "markdown",
   "metadata": {},
   "source": [
    "## Latitude vs. Cloudiness Plot"
   ]
  },
  {
   "cell_type": "code",
   "execution_count": null,
   "metadata": {},
   "outputs": [],
   "source": [
    "x_values = weather_data['lat']\n",
    "y_cloud = weather_data['cloud']\n",
    "plt.scatter(x_values,y_cloud)\n",
    "plt.xlabel('Latitude')\n",
    "plt.ylabel('Cloudiness')\n",
    "plt.savefig(\"Lat_vs_Cloud.png\")\n",
    "plt.show()"
   ]
  },
  {
   "cell_type": "markdown",
   "metadata": {},
   "source": [
    "## Latitude vs. Wind Speed Plot"
   ]
  },
  {
   "cell_type": "code",
   "execution_count": null,
   "metadata": {},
   "outputs": [],
   "source": [
    "x_values = weather_data['lat']\n",
    "y_wind = weather_data['wind']\n",
    "plt.scatter(x_values,y_wind)\n",
    "plt.xlabel('Latitude')\n",
    "plt.ylabel('Wind Speed')\n",
    "plt.savefig(\"Lat_vs_Wind.png\")\n",
    "plt.show()"
   ]
  },
  {
   "cell_type": "markdown",
   "metadata": {},
   "source": [
    "## Linear Regression"
   ]
  },
  {
   "cell_type": "code",
   "execution_count": null,
   "metadata": {},
   "outputs": [],
   "source": [
    "# OPTIONAL: Create a function to create Linear Regression plots\n",
    "(slope, intercept, rvalue, pvalue, stderr) = stats.linregress(x_values, y_values)\n",
    "\n",
    "# Get regression values\n",
    "regress_values = x_values * slope + intercept"
   ]
  },
  {
   "cell_type": "code",
   "execution_count": null,
   "metadata": {
    "scrolled": true
   },
   "outputs": [],
   "source": [
    "# Create Northern and Southern Hemisphere DataFrames\n",
    "#Northern Hemisphere\n",
    "north_df = weather_data.loc[weather_data['lat']>=0]\n",
    "north_df"
   ]
  },
  {
   "cell_type": "code",
   "execution_count": null,
   "metadata": {},
   "outputs": [],
   "source": [
    "#Southern Hemisphere \n",
    "south_df = weather_data.loc[weather_data['lat']<0]\n",
    "south_df"
   ]
  },
  {
   "cell_type": "markdown",
   "metadata": {},
   "source": [
    "####  Northern Hemisphere - Max Temp vs. Latitude Linear Regression"
   ]
  },
  {
   "cell_type": "code",
   "execution_count": null,
   "metadata": {},
   "outputs": [],
   "source": [
    "x_n_lat = north_df['lat']\n",
    "y_n_temp = north_df['temp']\n",
    "plt.scatter(x_n_lat,y_n_temp)\n",
    "plt.xlabel('Latitude')\n",
    "plt.ylabel('Temperature')\n",
    "(slope, intercept, rvalue, pvalue, stderr) = stats.linregress(x_n_lat, y_n_temp)\n",
    "regress_values = x_n_lat * slope + intercept\n",
    "line_eq = \"y = \" + str(round(slope,2)) + \"x +\" + str(round(intercept,2))\n",
    "plt.plot(x_n_lat,regress_values,\"r-\")\n",
    "plt.annotate(line_eq,(0,260),fontsize=15,color=\"red\")\n",
    "print(f\"The r-squared is: {rvalue**2}\")\n",
    "plt.savefig(\"North_Temp_vs_Lat.png\")\n",
    "plt.show()"
   ]
  },
  {
   "cell_type": "markdown",
   "metadata": {},
   "source": [
    "####  Southern Hemisphere - Max Temp vs. Latitude Linear Regression"
   ]
  },
  {
   "cell_type": "code",
   "execution_count": null,
   "metadata": {},
   "outputs": [],
   "source": [
    "x_s_lat = south_df['lat']\n",
    "y_s_temp = south_df['temp']\n",
    "plt.scatter(x_s_lat,y_s_temp)\n",
    "plt.xlabel('Latitude')\n",
    "plt.ylabel('Temperature')\n",
    "(slope, intercept, rvalue, pvalue, stderr) = stats.linregress(x_s_lat, y_s_temp)\n",
    "regress_values = x_s_lat * slope + intercept\n",
    "line_eq = \"y = \" + str(round(slope,2)) + \"x +\" + str(round(intercept,2))\n",
    "plt.plot(x_s_lat,regress_values,\"r-\")\n",
    "plt.annotate(line_eq,(-50,300),fontsize=15,color=\"red\")\n",
    "print(f\"The r-squared is: {rvalue**2}\")\n",
    "plt.savefig(\"South_Temp_vs_Lat.png\")\n",
    "plt.show()"
   ]
  },
  {
   "cell_type": "markdown",
   "metadata": {},
   "source": [
    "####  Northern Hemisphere - Humidity (%) vs. Latitude Linear Regression"
   ]
  },
  {
   "cell_type": "code",
   "execution_count": null,
   "metadata": {},
   "outputs": [],
   "source": [
    "x_n_lat = north_df['lat']\n",
    "y_n_humid = north_df['humid']\n",
    "plt.scatter(x_n_lat,y_n_humid)\n",
    "plt.xlabel('Latitude')\n",
    "plt.ylabel('Temperature')\n",
    "(slope, intercept, rvalue, pvalue, stderr) = stats.linregress(x_n_lat, y_n_humid)\n",
    "regress_values = x_n_lat * slope + intercept\n",
    "line_eq = \"y = \" + str(round(slope,2)) + \"x +\" + str(round(intercept,2))\n",
    "plt.plot(x_n_lat,regress_values,\"r-\")\n",
    "plt.annotate(line_eq,(45,10),fontsize=15,color=\"red\")\n",
    "print(f\"The r-squared is: {rvalue**2}\")\n",
    "plt.savefig(\"North_Humid_vs_Lat.png\")\n",
    "plt.show()"
   ]
  },
  {
   "cell_type": "markdown",
   "metadata": {},
   "source": [
    "####  Southern Hemisphere - Humidity (%) vs. Latitude Linear Regression"
   ]
  },
  {
   "cell_type": "code",
   "execution_count": null,
   "metadata": {},
   "outputs": [],
   "source": [
    "x_s_lat = south_df['lat']\n",
    "y_s_humid = south_df['humid']\n",
    "plt.scatter(x_s_lat,y_s_humid)\n",
    "plt.xlabel('Latitude')\n",
    "plt.ylabel('Temperature')\n",
    "(slope, intercept, rvalue, pvalue, stderr) = stats.linregress(x_s_lat, y_s_humid)\n",
    "regress_values = x_s_lat * slope + intercept\n",
    "line_eq = \"y = \" + str(round(slope,2)) + \"x +\" + str(round(intercept,2))\n",
    "plt.plot(x_s_lat,regress_values,\"r-\")\n",
    "plt.annotate(line_eq,(-50,30),fontsize=15,color=\"red\")\n",
    "print(f\"The r-squared is: {rvalue**2}\")\n",
    "plt.savefig(\"South_Humid_vs_Lat.png\")\n",
    "plt.show()"
   ]
  },
  {
   "cell_type": "markdown",
   "metadata": {},
   "source": [
    "####  Northern Hemisphere - Cloudiness (%) vs. Latitude Linear Regression"
   ]
  },
  {
   "cell_type": "code",
   "execution_count": null,
   "metadata": {},
   "outputs": [],
   "source": [
    "x_n_lat = north_df['lat']\n",
    "y_n_cloud = north_df['cloud']\n",
    "plt.scatter(x_n_lat,y_n_cloud)\n",
    "plt.xlabel('Latitude')\n",
    "plt.ylabel('Temperature')\n",
    "(slope, intercept, rvalue, pvalue, stderr) = stats.linregress(x_n_lat, y_n_cloud)\n",
    "regress_values = x_n_lat * slope + intercept\n",
    "line_eq = \"y = \" + str(round(slope,2)) + \"x +\" + str(round(intercept,2))\n",
    "plt.plot(x_n_lat,regress_values,\"r-\")\n",
    "plt.annotate(line_eq,(45,10),fontsize=15,color=\"red\")\n",
    "print(f\"The r-squared is: {rvalue**2}\")\n",
    "plt.savefig(\"North_Cloud_vs_Lat.png\")\n",
    "plt.show()"
   ]
  },
  {
   "cell_type": "markdown",
   "metadata": {},
   "source": [
    "####  Southern Hemisphere - Cloudiness (%) vs. Latitude Linear Regression"
   ]
  },
  {
   "cell_type": "code",
   "execution_count": null,
   "metadata": {},
   "outputs": [],
   "source": [
    "x_s_lat = south_df['lat']\n",
    "y_s_cloud = south_df['cloud']\n",
    "plt.scatter(x_s_lat,y_s_cloud)\n",
    "plt.xlabel('Latitude')\n",
    "plt.ylabel('Temperature')\n",
    "(slope, intercept, rvalue, pvalue, stderr) = stats.linregress(x_s_lat, y_s_cloud)\n",
    "regress_values = x_s_lat * slope + intercept\n",
    "line_eq = \"y = \" + str(round(slope,2)) + \"x +\" + str(round(intercept,2))\n",
    "plt.plot(x_s_lat,regress_values,\"r-\")\n",
    "plt.annotate(line_eq,(-50,30),fontsize=15,color=\"red\")\n",
    "print(f\"The r-squared is: {rvalue**2}\")\n",
    "plt.savefig(\"South_Cloud_vs_Lat.png\")\n",
    "plt.show()"
   ]
  },
  {
   "cell_type": "markdown",
   "metadata": {},
   "source": [
    "####  Northern Hemisphere - Wind Speed (mph) vs. Latitude Linear Regression"
   ]
  },
  {
   "cell_type": "code",
   "execution_count": null,
   "metadata": {},
   "outputs": [],
   "source": [
    "x_n_lat = north_df['lat']\n",
    "y_n_wind = north_df['wind']\n",
    "plt.scatter(x_n_lat,y_n_wind)\n",
    "plt.xlabel('Latitude')\n",
    "plt.ylabel('Temperature')\n",
    "(slope, intercept, rvalue, pvalue, stderr) = stats.linregress(x_n_lat, y_n_wind)\n",
    "regress_values = x_n_lat * slope + intercept\n",
    "line_eq = \"y = \" + str(round(slope,2)) + \"x +\" + str(round(intercept,2))\n",
    "plt.plot(x_n_lat,regress_values,\"r-\")\n",
    "plt.annotate(line_eq,(10,14),fontsize=15,color=\"red\")\n",
    "print(f\"The r-squared is: {rvalue**2}\")\n",
    "plt.savefig(\"North_Wind_vs_Lat.png\")\n",
    "plt.show()"
   ]
  },
  {
   "cell_type": "markdown",
   "metadata": {},
   "source": [
    "####  Southern Hemisphere - Wind Speed (mph) vs. Latitude Linear Regression"
   ]
  },
  {
   "cell_type": "code",
   "execution_count": null,
   "metadata": {},
   "outputs": [],
   "source": [
    "x_s_lat = south_df['lat']\n",
    "y_s_wind = south_df['wind']\n",
    "plt.scatter(x_s_lat,y_s_wind)\n",
    "plt.xlabel('Latitude')\n",
    "plt.ylabel('Temperature')\n",
    "(slope, intercept, rvalue, pvalue, stderr) = stats.linregress(x_s_lat, y_s_wind)\n",
    "regress_values = x_s_lat * slope + intercept\n",
    "line_eq = \"y = \" + str(round(slope,2)) + \"x +\" + str(round(intercept,2))\n",
    "plt.plot(x_s_lat,regress_values,\"r-\")\n",
    "plt.annotate(line_eq,(-50,20),fontsize=15,color=\"red\")\n",
    "print(f\"The r-squared is: {rvalue**2}\")\n",
    "plt.savefig(\"South_Wind_vs_Lat.png\")\n",
    "plt.show()"
   ]
  },
  {
   "cell_type": "code",
   "execution_count": null,
   "metadata": {},
   "outputs": [],
   "source": []
  },
  {
   "cell_type": "code",
   "execution_count": null,
   "metadata": {},
   "outputs": [],
   "source": []
  }
 ],
 "metadata": {
  "anaconda-cloud": {},
  "kernel_info": {
   "name": "python3"
  },
  "kernelspec": {
   "display_name": "Python 3",
   "language": "python",
   "name": "python3"
  },
  "language_info": {
   "codemirror_mode": {
    "name": "ipython",
    "version": 3
   },
   "file_extension": ".py",
   "mimetype": "text/x-python",
   "name": "python",
   "nbconvert_exporter": "python",
   "pygments_lexer": "ipython3",
   "version": "3.7.6"
  },
  "latex_envs": {
   "LaTeX_envs_menu_present": true,
   "autoclose": false,
   "autocomplete": true,
   "bibliofile": "biblio.bib",
   "cite_by": "apalike",
   "current_citInitial": 1,
   "eqLabelWithNumbers": true,
   "eqNumInitial": 1,
   "hotkeys": {
    "equation": "Ctrl-E",
    "itemize": "Ctrl-I"
   },
   "labels_anchors": false,
   "latex_user_defs": false,
   "report_style_numbering": false,
   "user_envs_cfg": false
  },
  "nteract": {
   "version": "0.12.3"
  }
 },
 "nbformat": 4,
 "nbformat_minor": 2
}
